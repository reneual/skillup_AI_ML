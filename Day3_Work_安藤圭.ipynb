{
 "cells": [
  {
   "cell_type": "markdown",
   "metadata": {},
   "source": [
    "# データセットの準備\n",
    "DAY2で使用したデータセットを準備する"
   ]
  },
  {
   "cell_type": "code",
   "execution_count": 1,
   "metadata": {},
   "outputs": [],
   "source": [
    "# 必要ライブラリのインポート\n",
    "import numpy as np\n",
    "import pandas as pd\n",
    "import matplotlib.pyplot as plt\n",
    "%matplotlib inline\n",
    "import seaborn as sns\n",
    "from sklearn.linear_model import SGDClassifier\n",
    "from sklearn.metrics import accuracy_score, precision_recall_fscore_support, confusion_matrix"
   ]
  },
  {
   "cell_type": "code",
   "execution_count": 2,
   "metadata": {},
   "outputs": [],
   "source": [
    "# データの読み込み\n",
    "df_kick_org = pd.read_csv('./data/ks-projects-201801.csv')"
   ]
  },
  {
   "cell_type": "code",
   "execution_count": 3,
   "metadata": {},
   "outputs": [
    {
     "name": "stderr",
     "output_type": "stream",
     "text": [
      "C:\\Users\\reneu\\Anaconda3\\lib\\site-packages\\pandas\\core\\indexing.py:494: SettingWithCopyWarning: \n",
      "A value is trying to be set on a copy of a slice from a DataFrame.\n",
      "Try using .loc[row_indexer,col_indexer] = value instead\n",
      "\n",
      "See the caveats in the documentation: http://pandas.pydata.org/pandas-docs/stable/user_guide/indexing.html#returning-a-view-versus-a-copy\n",
      "  self.obj[item] = s\n"
     ]
    }
   ],
   "source": [
    "# stateがsuccessfulまたはfailedとなるレコードの抽出\n",
    "df_kick = df_kick_org.loc[(df_kick_org['state'] == 'successful') | (df_kick_org['state'] == 'failed'), :]\n",
    "\n",
    "df_kick.loc[df_kick['state'] == 'failed', 'state'] = 0\n",
    "df_kick.loc[df_kick['state'] == 'successful', 'state'] = 1"
   ]
  },
  {
   "cell_type": "markdown",
   "metadata": {},
   "source": [
    "# nameの頻出単語から説明変数を作る"
   ]
  },
  {
   "cell_type": "code",
   "execution_count": 4,
   "metadata": {},
   "outputs": [
    {
     "data": {
      "text/plain": [
       "ID                    0\n",
       "name                  0\n",
       "category              0\n",
       "main_category         0\n",
       "currency              0\n",
       "deadline              0\n",
       "goal                  0\n",
       "launched              0\n",
       "pledged               0\n",
       "state                 0\n",
       "backers               0\n",
       "country               0\n",
       "usd pledged         210\n",
       "usd_pledged_real      0\n",
       "usd_goal_real         0\n",
       "dtype: int64"
      ]
     },
     "execution_count": 4,
     "metadata": {},
     "output_type": "execute_result"
    }
   ],
   "source": [
    "# nameの欠損値を埋める\n",
    "df_kick.loc[:, 'name'] = df_kick['name'].fillna('')\n",
    "df_kick.isnull().sum()"
   ]
  },
  {
   "cell_type": "markdown",
   "metadata": {},
   "source": [
    "# 頻出単語Top50を確認"
   ]
  },
  {
   "cell_type": "code",
   "execution_count": 5,
   "metadata": {},
   "outputs": [],
   "source": [
    "words_array = []\n",
    "\n",
    "def extend_array(array):\n",
    "    words_array.extend(array)\n",
    "\n",
    "df_kick['name'].str.split().apply(extend_array)\n",
    "\n",
    "df_words = pd.DataFrame({'words': words_array})"
   ]
  },
  {
   "cell_type": "code",
   "execution_count": 6,
   "metadata": {},
   "outputs": [
    {
     "data": {
      "text/plain": [
       "The            55291\n",
       "-              47128\n",
       "the            30417\n",
       "of             29602\n",
       "A              25713\n",
       "and            21010\n",
       "a              18517\n",
       "for            17296\n",
       "&              15679\n",
       "to             14844\n",
       "in             12185\n",
       "by              7840\n",
       "New             7798\n",
       "Project         7655\n",
       "Album           6654\n",
       "Film            6392\n",
       "with            5769\n",
       "Book            5539\n",
       "Art             5217\n",
       "Game            4955\n",
       "Help            4699\n",
       "Music           4677\n",
       "on              4637\n",
       "THE             4161\n",
       "your            3888\n",
       "Your            3774\n",
       "First           3553\n",
       "My              3502\n",
       "An              3458\n",
       "new             3361\n",
       "EP              3198\n",
       "Debut           3178\n",
       "Short           3161\n",
       "from            3157\n",
       "For             3064\n",
       "|               3044\n",
       "at              2985\n",
       "is              2972\n",
       "In              2783\n",
       "an              2783\n",
       "I               2782\n",
       "To              2743\n",
       "film            2662\n",
       "Documentary     2641\n",
       "Series          2640\n",
       "Life            2499\n",
       "World           2449\n",
       "Video           2407\n",
       "album           2271\n",
       "Of              2238\n",
       "Name: words, dtype: int64"
      ]
     },
     "execution_count": 6,
     "metadata": {},
     "output_type": "execute_result"
    }
   ],
   "source": [
    "df_words['words'].value_counts().head(50)"
   ]
  },
  {
   "cell_type": "markdown",
   "metadata": {},
   "source": [
    "冠詞・前置詞・接続詞・記号・be動詞・一般的な単語を除外する。\n",
    "\n",
    "## 冠詞\n",
    "* A / a\n",
    "* An / an\n",
    "* The / the\n",
    "\n",
    "## 前置詞\n",
    "* Of / of\n",
    "* In / in\n",
    "* for\n",
    "* To / to\n",
    "* by\n",
    "* on\n",
    "* from\n",
    "* with\n",
    "* at\n",
    "\n",
    "## 接続詞\n",
    "* and\n",
    "* &\n",
    "\n",
    "## 記号\n",
    "* -\n",
    "* |\n",
    "\n",
    "## be動詞\n",
    "* is\n",
    "\n",
    "## 一般的な単語\n",
    "* your / Your\n",
    "* I / My\n",
    "\n",
    "# 説明変数候補となる単語\n",
    "* New / new\n",
    "* Project\n",
    "* Album / album\n",
    "* Film / film\n",
    "* Book\n",
    "* Game\n",
    "* Art\n",
    "* Music\n",
    "* Help\n",
    "* First\n",
    "* Debut\n",
    "* Short\n",
    "* Series\n",
    "* Documentary\n",
    "* Life\n",
    "* World\n",
    "* Video\n",
    "\n",
    "# 新しいものを指すもの単語をまとめる\n",
    "以下の単語は新しいものを示しているので、説明変数 ``name_new`` にまとめる。\n",
    "* New / new\n",
    "* First\n",
    "* Debut"
   ]
  },
  {
   "cell_type": "code",
   "execution_count": 7,
   "metadata": {},
   "outputs": [
    {
     "data": {
      "text/html": [
       "<div>\n",
       "<style scoped>\n",
       "    .dataframe tbody tr th:only-of-type {\n",
       "        vertical-align: middle;\n",
       "    }\n",
       "\n",
       "    .dataframe tbody tr th {\n",
       "        vertical-align: top;\n",
       "    }\n",
       "\n",
       "    .dataframe thead th {\n",
       "        text-align: right;\n",
       "    }\n",
       "</style>\n",
       "<table border=\"1\" class=\"dataframe\">\n",
       "  <thead>\n",
       "    <tr style=\"text-align: right;\">\n",
       "      <th></th>\n",
       "      <th>state</th>\n",
       "      <th>main_category_Art</th>\n",
       "      <th>main_category_Comics</th>\n",
       "      <th>main_category_Crafts</th>\n",
       "      <th>main_category_Dance</th>\n",
       "      <th>main_category_Design</th>\n",
       "      <th>main_category_Fashion</th>\n",
       "      <th>main_category_Film &amp; Video</th>\n",
       "      <th>main_category_Food</th>\n",
       "      <th>main_category_Games</th>\n",
       "      <th>...</th>\n",
       "      <th>name_game</th>\n",
       "      <th>name_art</th>\n",
       "      <th>name_music</th>\n",
       "      <th>name_help</th>\n",
       "      <th>name_short</th>\n",
       "      <th>name_series</th>\n",
       "      <th>name_documentary</th>\n",
       "      <th>name_life</th>\n",
       "      <th>name_world</th>\n",
       "      <th>name_video</th>\n",
       "    </tr>\n",
       "  </thead>\n",
       "  <tbody>\n",
       "    <tr>\n",
       "      <td>0</td>\n",
       "      <td>0</td>\n",
       "      <td>0</td>\n",
       "      <td>0</td>\n",
       "      <td>0</td>\n",
       "      <td>0</td>\n",
       "      <td>0</td>\n",
       "      <td>0</td>\n",
       "      <td>0</td>\n",
       "      <td>0</td>\n",
       "      <td>0</td>\n",
       "      <td>...</td>\n",
       "      <td>0</td>\n",
       "      <td>0</td>\n",
       "      <td>0</td>\n",
       "      <td>0</td>\n",
       "      <td>0</td>\n",
       "      <td>0</td>\n",
       "      <td>0</td>\n",
       "      <td>0</td>\n",
       "      <td>0</td>\n",
       "      <td>0</td>\n",
       "    </tr>\n",
       "    <tr>\n",
       "      <td>1</td>\n",
       "      <td>0</td>\n",
       "      <td>0</td>\n",
       "      <td>0</td>\n",
       "      <td>0</td>\n",
       "      <td>0</td>\n",
       "      <td>0</td>\n",
       "      <td>0</td>\n",
       "      <td>1</td>\n",
       "      <td>0</td>\n",
       "      <td>0</td>\n",
       "      <td>...</td>\n",
       "      <td>0</td>\n",
       "      <td>0</td>\n",
       "      <td>0</td>\n",
       "      <td>0</td>\n",
       "      <td>0</td>\n",
       "      <td>0</td>\n",
       "      <td>0</td>\n",
       "      <td>0</td>\n",
       "      <td>0</td>\n",
       "      <td>0</td>\n",
       "    </tr>\n",
       "    <tr>\n",
       "      <td>2</td>\n",
       "      <td>0</td>\n",
       "      <td>0</td>\n",
       "      <td>0</td>\n",
       "      <td>0</td>\n",
       "      <td>0</td>\n",
       "      <td>0</td>\n",
       "      <td>0</td>\n",
       "      <td>1</td>\n",
       "      <td>0</td>\n",
       "      <td>0</td>\n",
       "      <td>...</td>\n",
       "      <td>0</td>\n",
       "      <td>0</td>\n",
       "      <td>0</td>\n",
       "      <td>0</td>\n",
       "      <td>0</td>\n",
       "      <td>0</td>\n",
       "      <td>0</td>\n",
       "      <td>0</td>\n",
       "      <td>0</td>\n",
       "      <td>0</td>\n",
       "    </tr>\n",
       "    <tr>\n",
       "      <td>3</td>\n",
       "      <td>0</td>\n",
       "      <td>0</td>\n",
       "      <td>0</td>\n",
       "      <td>0</td>\n",
       "      <td>0</td>\n",
       "      <td>0</td>\n",
       "      <td>0</td>\n",
       "      <td>0</td>\n",
       "      <td>0</td>\n",
       "      <td>0</td>\n",
       "      <td>...</td>\n",
       "      <td>0</td>\n",
       "      <td>0</td>\n",
       "      <td>0</td>\n",
       "      <td>1</td>\n",
       "      <td>0</td>\n",
       "      <td>0</td>\n",
       "      <td>0</td>\n",
       "      <td>0</td>\n",
       "      <td>0</td>\n",
       "      <td>0</td>\n",
       "    </tr>\n",
       "    <tr>\n",
       "      <td>5</td>\n",
       "      <td>1</td>\n",
       "      <td>0</td>\n",
       "      <td>0</td>\n",
       "      <td>0</td>\n",
       "      <td>0</td>\n",
       "      <td>0</td>\n",
       "      <td>0</td>\n",
       "      <td>0</td>\n",
       "      <td>1</td>\n",
       "      <td>0</td>\n",
       "      <td>...</td>\n",
       "      <td>0</td>\n",
       "      <td>0</td>\n",
       "      <td>0</td>\n",
       "      <td>0</td>\n",
       "      <td>0</td>\n",
       "      <td>0</td>\n",
       "      <td>0</td>\n",
       "      <td>0</td>\n",
       "      <td>0</td>\n",
       "      <td>0</td>\n",
       "    </tr>\n",
       "  </tbody>\n",
       "</table>\n",
       "<p>5 rows × 32 columns</p>\n",
       "</div>"
      ],
      "text/plain": [
       "   state  main_category_Art  main_category_Comics  main_category_Crafts  \\\n",
       "0      0                  0                     0                     0   \n",
       "1      0                  0                     0                     0   \n",
       "2      0                  0                     0                     0   \n",
       "3      0                  0                     0                     0   \n",
       "5      1                  0                     0                     0   \n",
       "\n",
       "   main_category_Dance  main_category_Design  main_category_Fashion  \\\n",
       "0                    0                     0                      0   \n",
       "1                    0                     0                      0   \n",
       "2                    0                     0                      0   \n",
       "3                    0                     0                      0   \n",
       "5                    0                     0                      0   \n",
       "\n",
       "   main_category_Film & Video  main_category_Food  main_category_Games  ...  \\\n",
       "0                           0                   0                    0  ...   \n",
       "1                           1                   0                    0  ...   \n",
       "2                           1                   0                    0  ...   \n",
       "3                           0                   0                    0  ...   \n",
       "5                           0                   1                    0  ...   \n",
       "\n",
       "   name_game  name_art  name_music  name_help  name_short  name_series  \\\n",
       "0          0         0           0          0           0            0   \n",
       "1          0         0           0          0           0            0   \n",
       "2          0         0           0          0           0            0   \n",
       "3          0         0           0          1           0            0   \n",
       "5          0         0           0          0           0            0   \n",
       "\n",
       "  name_documentary  name_life  name_world  name_video  \n",
       "0                0          0           0           0  \n",
       "1                0          0           0           0  \n",
       "2                0          0           0           0  \n",
       "3                0          0           0           0  \n",
       "5                0          0           0           0  \n",
       "\n",
       "[5 rows x 32 columns]"
      ]
     },
     "metadata": {},
     "output_type": "display_data"
    }
   ],
   "source": [
    "df_research = pd.get_dummies(df_kick[['state', 'main_category']])\n",
    "\n",
    "df_research['name'] = df_kick['name'].str.split()\n",
    "\n",
    "def contains_words(df, column, words):\n",
    "    words_array = []\n",
    "\n",
    "    def extend_array(array):\n",
    "        # wordsの単語リストが含まれていれば1, そうでなければ0\n",
    "        words_array.append(0 if set(words).isdisjoint(set(array)) else 1)\n",
    "        \n",
    "    df['name'].apply(extend_array)\n",
    "    df.loc[:, column] = words_array\n",
    "\n",
    "contains_words(df_research, 'name_new', ['New', 'new', 'Debut', 'debut', 'First', 'first'])\n",
    "contains_words(df_research, 'name_project', ['Project', 'project'])\n",
    "contains_words(df_research, 'name_album', ['Album', 'album'])\n",
    "contains_words(df_research, 'name_firm', ['Film', 'film'])\n",
    "contains_words(df_research, 'name_book', ['Book', 'book'])\n",
    "contains_words(df_research, 'name_game', ['Game', 'game'])\n",
    "contains_words(df_research, 'name_art', ['Art', 'art'])\n",
    "contains_words(df_research, 'name_music', ['Music', 'music'])\n",
    "contains_words(df_research, 'name_help', ['Help', 'help'])\n",
    "contains_words(df_research, 'name_short', ['Short', 'short'])\n",
    "contains_words(df_research, 'name_series', ['Series', 'series'])\n",
    "contains_words(df_research, 'name_documentary', ['Documentary', 'documentary'])\n",
    "contains_words(df_research, 'name_life', ['Life', 'life'])\n",
    "contains_words(df_research, 'name_world', ['World', 'world'])\n",
    "contains_words(df_research, 'name_video', ['Video', 'video'])\n",
    "display(df_research.head())"
   ]
  },
  {
   "cell_type": "markdown",
   "metadata": {},
   "source": [
    "# main_categoryと名前の品質単語の相関\n",
    "main_categoryの単語がnameの品質単語にも見られる。  \n",
    "共分散を見て、相関が高ければ説明変数から除外してよさそう。"
   ]
  },
  {
   "cell_type": "code",
   "execution_count": 8,
   "metadata": {
    "scrolled": true
   },
   "outputs": [
    {
     "data": {
      "text/plain": [
       "Film & Video    63585\n",
       "Music           51918\n",
       "Publishing      39874\n",
       "Games           35231\n",
       "Technology      32569\n",
       "Design          30070\n",
       "Art             28153\n",
       "Food            24602\n",
       "Fashion         22816\n",
       "Theater         10913\n",
       "Comics          10819\n",
       "Photography     10779\n",
       "Crafts           8809\n",
       "Journalism       4755\n",
       "Dance            3768\n",
       "Name: main_category, dtype: int64"
      ]
     },
     "execution_count": 8,
     "metadata": {},
     "output_type": "execute_result"
    }
   ],
   "source": [
    "# main_categoryの登録内容を見てみる\n",
    "df_kick_org['main_category'].value_counts()"
   ]
  },
  {
   "cell_type": "code",
   "execution_count": 9,
   "metadata": {},
   "outputs": [
    {
     "data": {
      "image/png": "[encoded data removed]",
      "text/plain": [
       "<Figure size 1440x1440 with 2 Axes>"
      ]
     },
     "metadata": {
      "needs_background": "light"
     },
     "output_type": "display_data"
    }
   ],
   "source": [
    "plt.figure(figsize=(20, 20))\n",
    "sns.heatmap(df_research.corr(), cmap = 'summer')\n",
    "plt.show()"
   ]
  },
  {
   "cell_type": "markdown",
   "metadata": {},
   "source": [
    "# stateと相関がありそうな単語\n",
    "stateと共分散が高い説明変数は以下の3つである。\n",
    "* name_art\n",
    "* name_project\n",
    "* name_book\n",
    "\n",
    "このうち、``name_book`` は ``main_category_Publishing`` と共分散が高いので、説明変数に含める必要はないと判断する。\n",
    "\n",
    "nameの単語から新たに説明変数に加えるのは、以下の2つとする。\n",
    "* name_art\n",
    "* name_project"
   ]
  },
  {
   "cell_type": "markdown",
   "metadata": {},
   "source": [
    "# 他の説明変数の整備\n",
    "DAY2までに実施した前処理を実施した後、nameの単語から加える説明変数を追加する。"
   ]
  },
  {
   "cell_type": "code",
   "execution_count": 10,
   "metadata": {},
   "outputs": [
    {
     "name": "stderr",
     "output_type": "stream",
     "text": [
      "C:\\Users\\reneu\\Anaconda3\\lib\\site-packages\\pandas\\core\\indexing.py:376: SettingWithCopyWarning: \n",
      "A value is trying to be set on a copy of a slice from a DataFrame.\n",
      "Try using .loc[row_indexer,col_indexer] = value instead\n",
      "\n",
      "See the caveats in the documentation: http://pandas.pydata.org/pandas-docs/stable/user_guide/indexing.html#returning-a-view-versus-a-copy\n",
      "  self.obj[key] = _infer_fill_value(value)\n"
     ]
    },
    {
     "data": {
      "text/html": [
       "<div>\n",
       "<style scoped>\n",
       "    .dataframe tbody tr th:only-of-type {\n",
       "        vertical-align: middle;\n",
       "    }\n",
       "\n",
       "    .dataframe tbody tr th {\n",
       "        vertical-align: top;\n",
       "    }\n",
       "\n",
       "    .dataframe thead th {\n",
       "        text-align: right;\n",
       "    }\n",
       "</style>\n",
       "<table border=\"1\" class=\"dataframe\">\n",
       "  <thead>\n",
       "    <tr style=\"text-align: right;\">\n",
       "      <th></th>\n",
       "      <th>state</th>\n",
       "      <th>usd_goal_ln</th>\n",
       "      <th>period</th>\n",
       "      <th>name_length</th>\n",
       "      <th>main_category_Art</th>\n",
       "      <th>main_category_Comics</th>\n",
       "      <th>main_category_Crafts</th>\n",
       "      <th>main_category_Dance</th>\n",
       "      <th>main_category_Design</th>\n",
       "      <th>main_category_Fashion</th>\n",
       "      <th>...</th>\n",
       "      <th>currency_HKD</th>\n",
       "      <th>currency_JPY</th>\n",
       "      <th>currency_MXN</th>\n",
       "      <th>currency_NOK</th>\n",
       "      <th>currency_NZD</th>\n",
       "      <th>currency_SEK</th>\n",
       "      <th>currency_SGD</th>\n",
       "      <th>currency_USD</th>\n",
       "      <th>name_art</th>\n",
       "      <th>name_project</th>\n",
       "    </tr>\n",
       "  </thead>\n",
       "  <tbody>\n",
       "    <tr>\n",
       "      <td>0</td>\n",
       "      <td>0</td>\n",
       "      <td>3.185811</td>\n",
       "      <td>58</td>\n",
       "      <td>31</td>\n",
       "      <td>0</td>\n",
       "      <td>0</td>\n",
       "      <td>0</td>\n",
       "      <td>0</td>\n",
       "      <td>0</td>\n",
       "      <td>0</td>\n",
       "      <td>...</td>\n",
       "      <td>0</td>\n",
       "      <td>0</td>\n",
       "      <td>0</td>\n",
       "      <td>0</td>\n",
       "      <td>0</td>\n",
       "      <td>0</td>\n",
       "      <td>0</td>\n",
       "      <td>0</td>\n",
       "      <td>0</td>\n",
       "      <td>0</td>\n",
       "    </tr>\n",
       "    <tr>\n",
       "      <td>1</td>\n",
       "      <td>0</td>\n",
       "      <td>4.477121</td>\n",
       "      <td>59</td>\n",
       "      <td>45</td>\n",
       "      <td>0</td>\n",
       "      <td>0</td>\n",
       "      <td>0</td>\n",
       "      <td>0</td>\n",
       "      <td>0</td>\n",
       "      <td>0</td>\n",
       "      <td>...</td>\n",
       "      <td>0</td>\n",
       "      <td>0</td>\n",
       "      <td>0</td>\n",
       "      <td>0</td>\n",
       "      <td>0</td>\n",
       "      <td>0</td>\n",
       "      <td>0</td>\n",
       "      <td>1</td>\n",
       "      <td>0</td>\n",
       "      <td>0</td>\n",
       "    </tr>\n",
       "    <tr>\n",
       "      <td>2</td>\n",
       "      <td>0</td>\n",
       "      <td>4.653213</td>\n",
       "      <td>44</td>\n",
       "      <td>14</td>\n",
       "      <td>0</td>\n",
       "      <td>0</td>\n",
       "      <td>0</td>\n",
       "      <td>0</td>\n",
       "      <td>0</td>\n",
       "      <td>0</td>\n",
       "      <td>...</td>\n",
       "      <td>0</td>\n",
       "      <td>0</td>\n",
       "      <td>0</td>\n",
       "      <td>0</td>\n",
       "      <td>0</td>\n",
       "      <td>0</td>\n",
       "      <td>0</td>\n",
       "      <td>1</td>\n",
       "      <td>0</td>\n",
       "      <td>0</td>\n",
       "    </tr>\n",
       "    <tr>\n",
       "      <td>3</td>\n",
       "      <td>0</td>\n",
       "      <td>3.698970</td>\n",
       "      <td>29</td>\n",
       "      <td>49</td>\n",
       "      <td>0</td>\n",
       "      <td>0</td>\n",
       "      <td>0</td>\n",
       "      <td>0</td>\n",
       "      <td>0</td>\n",
       "      <td>0</td>\n",
       "      <td>...</td>\n",
       "      <td>0</td>\n",
       "      <td>0</td>\n",
       "      <td>0</td>\n",
       "      <td>0</td>\n",
       "      <td>0</td>\n",
       "      <td>0</td>\n",
       "      <td>0</td>\n",
       "      <td>1</td>\n",
       "      <td>0</td>\n",
       "      <td>0</td>\n",
       "    </tr>\n",
       "    <tr>\n",
       "      <td>5</td>\n",
       "      <td>1</td>\n",
       "      <td>4.698970</td>\n",
       "      <td>34</td>\n",
       "      <td>20</td>\n",
       "      <td>0</td>\n",
       "      <td>0</td>\n",
       "      <td>0</td>\n",
       "      <td>0</td>\n",
       "      <td>0</td>\n",
       "      <td>0</td>\n",
       "      <td>...</td>\n",
       "      <td>0</td>\n",
       "      <td>0</td>\n",
       "      <td>0</td>\n",
       "      <td>0</td>\n",
       "      <td>0</td>\n",
       "      <td>0</td>\n",
       "      <td>0</td>\n",
       "      <td>1</td>\n",
       "      <td>0</td>\n",
       "      <td>0</td>\n",
       "    </tr>\n",
       "  </tbody>\n",
       "</table>\n",
       "<p>5 rows × 35 columns</p>\n",
       "</div>"
      ],
      "text/plain": [
       "   state  usd_goal_ln  period  name_length  main_category_Art  \\\n",
       "0      0     3.185811      58           31                  0   \n",
       "1      0     4.477121      59           45                  0   \n",
       "2      0     4.653213      44           14                  0   \n",
       "3      0     3.698970      29           49                  0   \n",
       "5      1     4.698970      34           20                  0   \n",
       "\n",
       "   main_category_Comics  main_category_Crafts  main_category_Dance  \\\n",
       "0                     0                     0                    0   \n",
       "1                     0                     0                    0   \n",
       "2                     0                     0                    0   \n",
       "3                     0                     0                    0   \n",
       "5                     0                     0                    0   \n",
       "\n",
       "   main_category_Design  main_category_Fashion  ...  currency_HKD  \\\n",
       "0                     0                      0  ...             0   \n",
       "1                     0                      0  ...             0   \n",
       "2                     0                      0  ...             0   \n",
       "3                     0                      0  ...             0   \n",
       "5                     0                      0  ...             0   \n",
       "\n",
       "   currency_JPY  currency_MXN  currency_NOK  currency_NZD  currency_SEK  \\\n",
       "0             0             0             0             0             0   \n",
       "1             0             0             0             0             0   \n",
       "2             0             0             0             0             0   \n",
       "3             0             0             0             0             0   \n",
       "5             0             0             0             0             0   \n",
       "\n",
       "   currency_SGD  currency_USD  name_art  name_project  \n",
       "0             0             0         0             0  \n",
       "1             0             1         0             0  \n",
       "2             0             1         0             0  \n",
       "3             0             1         0             0  \n",
       "5             0             1         0             0  \n",
       "\n",
       "[5 rows x 35 columns]"
      ]
     },
     "metadata": {},
     "output_type": "display_data"
    }
   ],
   "source": [
    "# 募集期間periodの作成\n",
    "df_kick.loc[:, 'deadline_dt'] = pd.to_datetime(df_kick['deadline'])\n",
    "df_kick.loc[:, 'launched_dt'] = pd.to_datetime(df_kick['launched'])\n",
    "\n",
    "df_kick.loc[:, 'period_dt'] = df_kick['deadline_dt'] - df_kick['launched_dt']\n",
    "df_kick.loc[:, 'period'] = df_kick['period_dt'].dt.days\n",
    "\n",
    "# nameの文字数をname_lengthという説明変数にする\n",
    "df_kick.loc[:, 'name_length'] = df_kick['name'].str.len()\n",
    "\n",
    "# name_lengthの欠損値に0を入れる\n",
    "df_kick.loc[:, 'name_length'] = df_kick['name_length'].fillna(0)\n",
    "\n",
    "# usd_goal_realを対数変換する\n",
    "df_kick.loc[:, 'usd_goal_ln'] = np.log10(df_kick.loc[:, 'usd_goal_real'])\n",
    "\n",
    "# main_category, currencyをone-hot-vector化する\n",
    "df_kick = pd.get_dummies(df_kick[['state', 'main_category', 'currency', 'usd_goal_ln', 'period', 'name_length']])\n",
    "\n",
    "# nameの単語から説明変数を加える\n",
    "df_kick['name_art'] = df_research['name_art'].copy()\n",
    "df_kick['name_project'] = df_research['name_project'].copy()\n",
    "\n",
    "display(df_kick.head())"
   ]
  },
  {
   "cell_type": "markdown",
   "metadata": {},
   "source": [
    "# ホールドアウト法で訓練データと検証データに分割\n",
    "説明変数の標準化は訓練データと検証データに分割する必要がある。  \n",
    "学習データに検証データの要素が入らないようにすため。(Leakageの防止)"
   ]
  },
  {
   "cell_type": "code",
   "execution_count": 11,
   "metadata": {},
   "outputs": [],
   "source": [
    "# ホールドアウト法で訓練データと検証データを4:1に分割\n",
    "from sklearn.model_selection import train_test_split\n",
    "\n",
    "X_df = df_kick[df_kick.columns[1:]]\n",
    "y_df = pd.Series(df_kick['state'])\n",
    "\n",
    "test_size = 0.2\n",
    "\n",
    "X_df_train, X_df_test, y_df_train, y_df_test = train_test_split(\n",
    "    X_df, y_df, test_size = test_size, random_state = 1234)"
   ]
  },
  {
   "cell_type": "code",
   "execution_count": 12,
   "metadata": {
    "scrolled": true
   },
   "outputs": [
    {
     "name": "stderr",
     "output_type": "stream",
     "text": [
      "C:\\Users\\reneu\\Anaconda3\\lib\\site-packages\\pandas\\core\\indexing.py:494: SettingWithCopyWarning: \n",
      "A value is trying to be set on a copy of a slice from a DataFrame.\n",
      "Try using .loc[row_indexer,col_indexer] = value instead\n",
      "\n",
      "See the caveats in the documentation: http://pandas.pydata.org/pandas-docs/stable/user_guide/indexing.html#returning-a-view-versus-a-copy\n",
      "  self.obj[item] = s\n",
      "C:\\Users\\reneu\\Anaconda3\\lib\\site-packages\\pandas\\core\\indexing.py:494: SettingWithCopyWarning: \n",
      "A value is trying to be set on a copy of a slice from a DataFrame.\n",
      "Try using .loc[row_indexer,col_indexer] = value instead\n",
      "\n",
      "See the caveats in the documentation: http://pandas.pydata.org/pandas-docs/stable/user_guide/indexing.html#returning-a-view-versus-a-copy\n",
      "  self.obj[item] = s\n",
      "C:\\Users\\reneu\\Anaconda3\\lib\\site-packages\\pandas\\core\\indexing.py:494: SettingWithCopyWarning: \n",
      "A value is trying to be set on a copy of a slice from a DataFrame.\n",
      "Try using .loc[row_indexer,col_indexer] = value instead\n",
      "\n",
      "See the caveats in the documentation: http://pandas.pydata.org/pandas-docs/stable/user_guide/indexing.html#returning-a-view-versus-a-copy\n",
      "  self.obj[item] = s\n",
      "C:\\Users\\reneu\\Anaconda3\\lib\\site-packages\\pandas\\core\\indexing.py:494: SettingWithCopyWarning: \n",
      "A value is trying to be set on a copy of a slice from a DataFrame.\n",
      "Try using .loc[row_indexer,col_indexer] = value instead\n",
      "\n",
      "See the caveats in the documentation: http://pandas.pydata.org/pandas-docs/stable/user_guide/indexing.html#returning-a-view-versus-a-copy\n",
      "  self.obj[item] = s\n",
      "C:\\Users\\reneu\\Anaconda3\\lib\\site-packages\\pandas\\core\\indexing.py:494: SettingWithCopyWarning: \n",
      "A value is trying to be set on a copy of a slice from a DataFrame.\n",
      "Try using .loc[row_indexer,col_indexer] = value instead\n",
      "\n",
      "See the caveats in the documentation: http://pandas.pydata.org/pandas-docs/stable/user_guide/indexing.html#returning-a-view-versus-a-copy\n",
      "  self.obj[item] = s\n",
      "C:\\Users\\reneu\\Anaconda3\\lib\\site-packages\\pandas\\core\\indexing.py:494: SettingWithCopyWarning: \n",
      "A value is trying to be set on a copy of a slice from a DataFrame.\n",
      "Try using .loc[row_indexer,col_indexer] = value instead\n",
      "\n",
      "See the caveats in the documentation: http://pandas.pydata.org/pandas-docs/stable/user_guide/indexing.html#returning-a-view-versus-a-copy\n",
      "  self.obj[item] = s\n"
     ]
    }
   ],
   "source": [
    "# 説明変数の標準化\n",
    "import sys\n",
    "from sklearn.preprocessing import StandardScaler\n",
    "\n",
    "stdsc = StandardScaler()\n",
    "\n",
    "# 訓練データの標準化\n",
    "X_df_train.loc[:, 'usd_goal_ln'] = stdsc.fit_transform(X_df_train[['usd_goal_ln']].values)\n",
    "X_df_train.loc[:, 'period'] = stdsc.fit_transform(X_df_train[['period']].values)\n",
    "X_df_train.loc[:, 'name_length'] = stdsc.fit_transform(X_df_train[['name_length']].values)\n",
    "\n",
    "# 検証データの標準化\n",
    "X_df_test.loc[:, 'usd_goal_ln'] = stdsc.fit_transform(X_df_test[['usd_goal_ln']].values)\n",
    "X_df_test.loc[:, 'period'] = stdsc.fit_transform(X_df_test[['period']].values)\n",
    "X_df_test.loc[:, 'name_length'] = stdsc.fit_transform(X_df_test[['name_length']].values)"
   ]
  },
  {
   "cell_type": "markdown",
   "metadata": {},
   "source": [
    "# ラッパー法(ステップワイズ法)で特徴選択を行う"
   ]
  },
  {
   "cell_type": "code",
   "execution_count": 13,
   "metadata": {},
   "outputs": [
    {
     "data": {
      "text/plain": [
       "RFECV(cv=5,\n",
       "      estimator=SGDClassifier(alpha=0.001, average=False, class_weight=None,\n",
       "                              early_stopping=False, epsilon=0.1, eta0=0.0,\n",
       "                              fit_intercept=True, l1_ratio=0.15,\n",
       "                              learning_rate='optimal', loss='log',\n",
       "                              max_iter=10000, n_iter_no_change=5, n_jobs=None,\n",
       "                              penalty='l2', power_t=0.5, random_state=1234,\n",
       "                              shuffle=True, tol=0.001, validation_fraction=0.1,\n",
       "                              verbose=0, warm_start=False),\n",
       "      min_features_to_select=1, n_jobs=None, scoring='accuracy', step=1,\n",
       "      verbose=0)"
      ]
     },
     "execution_count": 13,
     "metadata": {},
     "output_type": "execute_result"
    }
   ],
   "source": [
    "from sklearn.feature_selection import RFECV\n",
    "\n",
    "# L2正則化項のハイパーパラメータはDay2で探索した最適値を利用する\n",
    "estimator = SGDClassifier(loss = 'log', fit_intercept = True, penalty = 'l2', alpha = 1e-3,\n",
    "                          random_state = 1234, max_iter = 10000, tol = 1e-3)\n",
    "\n",
    "# ステップワイズ法＋交差検証法で特徴選択を行う\n",
    "rfecv = RFECV(estimator, cv = 5, scoring = 'accuracy')\n",
    "\n",
    "X_train = X_df_train.values\n",
    "y_train = y_df_train.values\n",
    "\n",
    "rfecv.fit(X_train, y_train)"
   ]
  },
  {
   "cell_type": "code",
   "execution_count": 14,
   "metadata": {},
   "outputs": [
    {
     "name": "stdout",
     "output_type": "stream",
     "text": [
      "Feature ranking: \n",
      "[ 1  1  1  6  1  1  1  1  1  1  1  1  1  1  1  1  1  1  1  4  8  1  1  1\n",
      "  1 10  1  2  7  9  5  1  3  1]\n"
     ]
    }
   ],
   "source": [
    "# 特徴のランキングを表示（1が最も重要な特徴）\n",
    "print('Feature ranking: \\n{}'.format(rfecv.ranking_))"
   ]
  },
  {
   "cell_type": "code",
   "execution_count": 15,
   "metadata": {},
   "outputs": [
    {
     "data": {
      "image/png": "[encoded data removed]",
      "text/plain": [
       "<Figure size 432x288 with 1 Axes>"
      ]
     },
     "metadata": {
      "needs_background": "light"
     },
     "output_type": "display_data"
    }
   ],
   "source": [
    "# 特徴数とスコアの変化をプロット\n",
    "plt.plot(range(1, len(rfecv.grid_scores_) + 1), rfecv.grid_scores_)\n",
    "plt.show()"
   ]
  },
  {
   "cell_type": "code",
   "execution_count": 16,
   "metadata": {},
   "outputs": [
    {
     "name": "stdout",
     "output_type": "stream",
     "text": [
      "削除する特徴量\n",
      "Index(['main_category_Art', 'currency_CAD', 'currency_CHF', 'currency_JPY',\n",
      "       'currency_NOK', 'currency_NZD', 'currency_SEK', 'currency_SGD',\n",
      "       'name_art'],\n",
      "      dtype='object')\n",
      "残った特徴量\n",
      "Index(['usd_goal_ln', 'period', 'name_length', 'main_category_Comics',\n",
      "       'main_category_Crafts', 'main_category_Dance', 'main_category_Design',\n",
      "       'main_category_Fashion', 'main_category_Film & Video',\n",
      "       'main_category_Food', 'main_category_Games', 'main_category_Journalism',\n",
      "       'main_category_Music', 'main_category_Photography',\n",
      "       'main_category_Publishing', 'main_category_Technology',\n",
      "       'main_category_Theater', 'currency_AUD', 'currency_DKK', 'currency_EUR',\n",
      "       'currency_GBP', 'currency_HKD', 'currency_MXN', 'currency_USD',\n",
      "       'name_project'],\n",
      "      dtype='object')\n"
     ]
    }
   ],
   "source": [
    "# 削除してもよい特徴量を削除\n",
    "remove_idx = ~rfecv.support_\n",
    "\n",
    "remove_feature = X_df_train.columns[remove_idx]\n",
    "print(\"削除する特徴量\")\n",
    "print(remove_feature)\n",
    "\n",
    "X_df_train = X_df_train.drop(remove_feature, axis = 1)\n",
    "X_df_test = X_df_test.drop(remove_feature, axis = 1)\n",
    "print(\"残った特徴量\")\n",
    "print(X_df_train.columns)"
   ]
  },
  {
   "cell_type": "markdown",
   "metadata": {},
   "source": [
    "# 追加したnameの単語に関する説明変数に関して\n",
    "``name_art`` が除外変数として選択された。"
   ]
  },
  {
   "cell_type": "markdown",
   "metadata": {},
   "source": [
    "# 汎化性能を表示する処理を共通関数化しておく"
   ]
  },
  {
   "cell_type": "code",
   "execution_count": 17,
   "metadata": {},
   "outputs": [],
   "source": [
    "def calc_general_perf(y_est, y_test):\n",
    "    accuracy = accuracy_score(y_test, y_est)\n",
    "    precision, recall, f1_score, _ = precision_recall_fscore_support(y_test, y_est)\n",
    "\n",
    "    print('正解率 = {:.3f}'.format(accuracy * 100))\n",
    "    print('適合率(precision) = {:.3f}'.format(precision[1] * 100))\n",
    "    print('再現率(recall) = {:.3f}'.format(recall[1] * 100))\n",
    "    print('F1値(F1-score) = {:.3f}'.format(f1_score[1] * 100))"
   ]
  },
  {
   "cell_type": "markdown",
   "metadata": {},
   "source": [
    "# 特徴選択後のデータで交差検証法を使って訓練性能を確認\n",
    "交差検証法はDay2の方法ではなく、sckit-learnのcross_val_scoreを使う"
   ]
  },
  {
   "cell_type": "code",
   "execution_count": 18,
   "metadata": {},
   "outputs": [
    {
     "name": "stdout",
     "output_type": "stream",
     "text": [
      "Cross Validation accuracy = 65.331\n"
     ]
    }
   ],
   "source": [
    "from sklearn.model_selection import cross_val_score\n",
    "\n",
    "n_split = 5 # 分割数\n",
    "\n",
    "accuracy_total = 0.0\n",
    "split_num = 1\n",
    "\n",
    "X_train = X_df_train.values\n",
    "y_train = y_df_train.values\n",
    "\n",
    "# ロジスティック回帰モデルで訓練性能を交差検証で算出する\n",
    "# L2正則化項のハイパーパラメータはDay2で探索した最適値を利用する\n",
    "clf = SGDClassifier(loss = 'log', fit_intercept = True, penalty = 'l2', alpha = 1e-3,\n",
    "                    random_state = 1234, max_iter = 10000, tol = 1e-3)\n",
    "score = cross_val_score(estimator = clf, X = X_train, y = y_train, cv = 5)\n",
    "print(\"Cross Validation accuracy = {:.3f}\".format(score.mean() * 100))"
   ]
  },
  {
   "cell_type": "markdown",
   "metadata": {},
   "source": [
    "# 検証データを用いて汎化性能を確認"
   ]
  },
  {
   "cell_type": "code",
   "execution_count": 19,
   "metadata": {},
   "outputs": [
    {
     "name": "stdout",
     "output_type": "stream",
     "text": [
      "正解率 = 65.439\n",
      "適合率(precision) = 59.945\n",
      "再現率(recall) = 41.696\n",
      "F1値(F1-score) = 49.182\n"
     ]
    }
   ],
   "source": [
    "# ロジスティック回帰モデルを使い、訓練データで学習\n",
    "clf.fit(X_train, y_train)\n",
    "\n",
    "X_test = X_df_test.values\n",
    "y_test = y_df_test.values\n",
    "\n",
    "# モデルで予測\n",
    "y_est = clf.predict(X_test)\n",
    "\n",
    "# 汎化性能を算出\n",
    "calc_general_perf(y_est, y_test)"
   ]
  },
  {
   "cell_type": "markdown",
   "metadata": {},
   "source": [
    "# 特徴選択前後の正解率の変化\n",
    "正解率は少しだけ上昇した。\n",
    "\n",
    "| 特徴選択前 | 特徴選択後 |\n",
    "| :---: | :---: |\n",
    "| 65.306 | 65.439 |"
   ]
  },
  {
   "cell_type": "markdown",
   "metadata": {},
   "source": [
    "# 決定木で分類を行う\n",
    "* 評価指標はジニ係数とエントロピーのどちらがよいかグリッドサーチで探索する\n",
    "* max_depthもグリッドサーチで探索する\n",
    "* 訓練データに対して交差検証を行い、最適な訓練性能を確認する\n",
    "* 検証データに対して予測を行い、汎化性能を確認する"
   ]
  },
  {
   "cell_type": "code",
   "execution_count": 20,
   "metadata": {},
   "outputs": [
    {
     "name": "stdout",
     "output_type": "stream",
     "text": [
      "score=65.524\n",
      "best_params={'criterion': 'gini', 'max_depth': 10}\n"
     ]
    }
   ],
   "source": [
    "from sklearn.tree import DecisionTreeClassifier, export_graphviz\n",
    "from sklearn.model_selection import GridSearchCV\n",
    "\n",
    "X_train = X_df_train.values\n",
    "y_train = y_df_train.values\n",
    "\n",
    "params = {\"criterion\": [\"gini\", \"entropy\"], \"max_depth\": [5, 10, 15]}\n",
    "clf = GridSearchCV(DecisionTreeClassifier(random_state = 1234, \n",
    "                                          min_samples_split = 3, min_samples_leaf = 3),\n",
    "                   params, cv = 5)\n",
    "clf.fit(X_train, y_train)\n",
    "print(\"score={:.3f}\".format(clf.best_score_ * 100))\n",
    "print(\"best_params={:}\".format(clf.best_params_))"
   ]
  },
  {
   "cell_type": "code",
   "execution_count": 21,
   "metadata": {},
   "outputs": [
    {
     "data": {
      "text/plain": [
       "DecisionTreeClassifier(class_weight=None, criterion='gini', max_depth=10,\n",
       "                       max_features=None, max_leaf_nodes=None,\n",
       "                       min_impurity_decrease=0.0, min_impurity_split=None,\n",
       "                       min_samples_leaf=3, min_samples_split=3,\n",
       "                       min_weight_fraction_leaf=0.0, presort=False,\n",
       "                       random_state=1234, splitter='best')"
      ]
     },
     "execution_count": 21,
     "metadata": {},
     "output_type": "execute_result"
    }
   ],
   "source": [
    "# 最適なmax_depthを用いて決定木で学習を行う\n",
    "# 評価指標はジニ係数を用いる\n",
    "clf = DecisionTreeClassifier(criterion = \"gini\", max_depth = 10, random_state = 1234,\n",
    "                            min_samples_split = 3, min_samples_leaf = 3)\n",
    "clf.fit(X_train, y_train)"
   ]
  },
  {
   "cell_type": "code",
   "execution_count": 22,
   "metadata": {},
   "outputs": [
    {
     "name": "stdout",
     "output_type": "stream",
     "text": [
      "正解率 = 65.709\n",
      "適合率(precision) = 59.601\n",
      "再現率(recall) = 45.030\n",
      "F1値(F1-score) = 51.301\n"
     ]
    }
   ],
   "source": [
    "# 検証データの汎化性能を確認する\n",
    "y_est = clf.predict(X_test)\n",
    "\n",
    "calc_general_perf(y_est, y_test)"
   ]
  },
  {
   "cell_type": "markdown",
   "metadata": {},
   "source": [
    "# ランダムフォレストで分類を行う"
   ]
  },
  {
   "cell_type": "code",
   "execution_count": 23,
   "metadata": {},
   "outputs": [
    {
     "name": "stdout",
     "output_type": "stream",
     "text": [
      "score=66.950\n",
      "best_params={'criterion': 'entropy', 'max_depth': 20, 'n_estimators': 50}\n"
     ]
    }
   ],
   "source": [
    "# グリッドサーチでランダムフォレストのハイパーパラメータの最適値を探索する\n",
    "from sklearn.ensemble import RandomForestClassifier\n",
    "\n",
    "X_train = X_df_train.values\n",
    "y_train = y_df_train.values\n",
    "\n",
    "params = {\"n_estimators\": [10, 20, 50], \"criterion\": [\"gini\", \"entropy\"], \"max_depth\": [10, 15, 20]}\n",
    "clf = GridSearchCV(RandomForestClassifier(random_state = 1234, \n",
    "                                          min_samples_split = 3, min_samples_leaf = 3),\n",
    "                   params, cv = 5)\n",
    "clf.fit(X_train, y_train)\n",
    "print(\"score={:.3f}\".format(clf.best_score_ * 100))\n",
    "print(\"best_params={:}\".format(clf.best_params_))"
   ]
  },
  {
   "cell_type": "code",
   "execution_count": 24,
   "metadata": {},
   "outputs": [
    {
     "data": {
      "text/plain": [
       "RandomForestClassifier(bootstrap=True, class_weight=None, criterion='entropy',\n",
       "                       max_depth=20, max_features='auto', max_leaf_nodes=None,\n",
       "                       min_impurity_decrease=0.0, min_impurity_split=None,\n",
       "                       min_samples_leaf=3, min_samples_split=3,\n",
       "                       min_weight_fraction_leaf=0.0, n_estimators=50,\n",
       "                       n_jobs=None, oob_score=False, random_state=1234,\n",
       "                       verbose=0, warm_start=False)"
      ]
     },
     "execution_count": 24,
     "metadata": {},
     "output_type": "execute_result"
    }
   ],
   "source": [
    "# 最適なmax_depthとn_estimatorsを用いてランダムフォレストで学習を行う\n",
    "# 評価指標はエントロピーを用いる\n",
    "clf = RandomForestClassifier(n_estimators = 50, criterion = \"entropy\", max_depth = 20,\n",
    "                            random_state = 1234, min_samples_split = 3, min_samples_leaf = 3)\n",
    "clf.fit(X_train, y_train)"
   ]
  },
  {
   "cell_type": "code",
   "execution_count": 25,
   "metadata": {},
   "outputs": [
    {
     "name": "stdout",
     "output_type": "stream",
     "text": [
      "正解率 = 67.028\n",
      "適合率(precision) = 61.789\n",
      "再現率(recall) = 46.638\n",
      "F1値(F1-score) = 53.155\n"
     ]
    }
   ],
   "source": [
    "# 検証データの汎化性能を確認する\n",
    "X_test = X_df_test.values\n",
    "y_test = y_df_test.values\n",
    "\n",
    "y_est = clf.predict(X_test)\n",
    "\n",
    "calc_general_perf(y_est, y_test)"
   ]
  },
  {
   "cell_type": "markdown",
   "metadata": {},
   "source": [
    "# アダブーストで分類を行う"
   ]
  },
  {
   "cell_type": "code",
   "execution_count": 26,
   "metadata": {},
   "outputs": [
    {
     "name": "stdout",
     "output_type": "stream",
     "text": [
      "score=66.259\n",
      "best_params={'n_estimators': 5}\n"
     ]
    }
   ],
   "source": [
    "# グリッドサーチアダブーストのハイパーパラメータの最適値を探索する\n",
    "from sklearn.ensemble import AdaBoostClassifier\n",
    "from sklearn.tree import DecisionTreeClassifier\n",
    "\n",
    "X_train = X_df_train.values\n",
    "y_train = y_df_train.values\n",
    "\n",
    "# 決定木のハイパーパラメータは上記で探索した最適値を用いる\n",
    "# グリッドサーチで探索するのは識別器の数のみとする\n",
    "params = {\"n_estimators\": [5, 8, 10]}\n",
    "clf = GridSearchCV(AdaBoostClassifier(DecisionTreeClassifier(random_state = 1234, \n",
    "                                                             max_depth = 10,\n",
    "                                                             criterion = \"gini\",\n",
    "                                                             min_samples_split = 3, \n",
    "                                                             min_samples_leaf = 3),\n",
    "                                     random_state = 1234),\n",
    "                   params, cv = 5)\n",
    "clf.fit(X_train, y_train)\n",
    "print(\"score={:.3f}\".format(clf.best_score_ * 100))\n",
    "print(\"best_params={:}\".format(clf.best_params_))"
   ]
  },
  {
   "cell_type": "code",
   "execution_count": 27,
   "metadata": {},
   "outputs": [
    {
     "data": {
      "text/plain": [
       "AdaBoostClassifier(algorithm='SAMME.R',\n",
       "                   base_estimator=DecisionTreeClassifier(class_weight=None,\n",
       "                                                         criterion='gini',\n",
       "                                                         max_depth=10,\n",
       "                                                         max_features=None,\n",
       "                                                         max_leaf_nodes=None,\n",
       "                                                         min_impurity_decrease=0.0,\n",
       "                                                         min_impurity_split=None,\n",
       "                                                         min_samples_leaf=3,\n",
       "                                                         min_samples_split=3,\n",
       "                                                         min_weight_fraction_leaf=0.0,\n",
       "                                                         presort=False,\n",
       "                                                         random_state=1234,\n",
       "                                                         splitter='best'),\n",
       "                   learning_rate=1.0, n_estimators=5, random_state=1234)"
      ]
     },
     "execution_count": 27,
     "metadata": {},
     "output_type": "execute_result"
    }
   ],
   "source": [
    "# 最適なn_estimatorを用いて学習を行う\n",
    "clf = AdaBoostClassifier(DecisionTreeClassifier(random_state = 1234, max_depth = 10,\n",
    "                                               criterion = \"gini\",\n",
    "                                               min_samples_split = 3, min_samples_leaf = 3),\n",
    "                        n_estimators = 5, random_state = 1234)\n",
    "clf.fit(X_train, y_train)"
   ]
  },
  {
   "cell_type": "code",
   "execution_count": 28,
   "metadata": {},
   "outputs": [
    {
     "name": "stdout",
     "output_type": "stream",
     "text": [
      "正解率 = 66.500\n",
      "適合率(precision) = 59.912\n",
      "再現率(recall) = 49.806\n",
      "F1値(F1-score) = 54.394\n"
     ]
    }
   ],
   "source": [
    "# 検証データで汎化性能を確認する\n",
    "X_test = X_df_test.values\n",
    "y_test = y_df_test.values\n",
    "\n",
    "y_est = clf.predict(X_test)\n",
    "\n",
    "calc_general_perf(y_est, y_test)"
   ]
  },
  {
   "cell_type": "markdown",
   "metadata": {},
   "source": [
    "# ニューラルネットワークで分類を行う"
   ]
  },
  {
   "cell_type": "code",
   "execution_count": 29,
   "metadata": {},
   "outputs": [
    {
     "name": "stdout",
     "output_type": "stream",
     "text": [
      "X_train= [[-0.16995903 -0.31047727  1.42930202 ...  0.          1.\n",
      "   0.        ]\n",
      " [-1.5401285  -1.09782535 -1.76867463 ...  0.          0.\n",
      "   0.        ]\n",
      " [ 0.92602104  0.87054484  0.30060438 ...  0.          1.\n",
      "   0.        ]\n",
      " ...\n",
      " [ 0.16472064  1.97283214  0.92765863 ...  0.          1.\n",
      "   0.        ]\n",
      " [ 0.29479584 -0.31047727 -0.82809326 ...  0.          0.\n",
      "   0.        ]\n",
      " [ 0.02049305 -0.6254165   0.99036405 ...  0.          1.\n",
      "   0.        ]]\n",
      "\n",
      "X_test= [[-1.41622344  0.54837256  0.73193528 ...  0.          1.\n",
      "   0.        ]\n",
      " [-0.45716566 -0.70526372  0.91922332 ...  0.          1.\n",
      "   0.        ]\n",
      " [-1.72062244  2.03706563 -0.07964624 ...  0.          1.\n",
      "   0.        ]\n",
      " ...\n",
      " [-0.68698043 -0.54855918 -0.82879841 ...  0.          1.\n",
      "   0.        ]\n",
      " [ 2.80872571  1.01848616 -0.45422232 ...  0.          1.\n",
      "   0.        ]\n",
      " [ 0.36892174 -0.31350238 -1.0785158  ...  0.          1.\n",
      "   0.        ]]\n",
      "\n",
      "y_train= [[1. 0.]\n",
      " [0. 1.]\n",
      " [1. 0.]\n",
      " ...\n",
      " [0. 1.]\n",
      " [1. 0.]\n",
      " [1. 0.]]\n",
      "\n",
      "y_test= [[1. 0.]\n",
      " [0. 1.]\n",
      " [1. 0.]\n",
      " ...\n",
      " [0. 1.]\n",
      " [1. 0.]\n",
      " [1. 0.]]\n",
      "X_df_train_columns= 25\n"
     ]
    }
   ],
   "source": [
    "# データの準備\n",
    "from tensorflow.keras.utils import to_categorical\n",
    "\n",
    "X_train = X_df_train.values\n",
    "y_train = y_df_train.values\n",
    "X_test = X_df_test.values\n",
    "y_test = y_df_test.values\n",
    "\n",
    "# one-hotベクトルに変換\n",
    "y_train = to_categorical(y_train)\n",
    "y_test = to_categorical(y_test)\n",
    "\n",
    "print(\"X_train=\",X_train)\n",
    "print()\n",
    "print(\"X_test=\",X_test)\n",
    "print()\n",
    "print(\"y_train=\",y_train)\n",
    "print()\n",
    "print(\"y_test=\",y_test)\n",
    "print(\"X_df_train_columns=\",len(X_df_train.columns))"
   ]
  },
  {
   "cell_type": "code",
   "execution_count": 30,
   "metadata": {},
   "outputs": [
    {
     "name": "stdout",
     "output_type": "stream",
     "text": [
      "WARNING:tensorflow:From C:\\Users\\reneu\\Anaconda3\\lib\\site-packages\\tensorflow\\python\\ops\\init_ops.py:1251: calling VarianceScaling.__init__ (from tensorflow.python.ops.init_ops) with dtype is deprecated and will be removed in a future version.\n",
      "Instructions for updating:\n",
      "Call initializer instance with the dtype argument instead of passing it to the constructor\n"
     ]
    }
   ],
   "source": [
    "from tensorflow.compat.v1.keras import Sequential\n",
    "from tensorflow.compat.v1.keras.layers import Dense, Dropout, Activation\n",
    "from tensorflow.compat.v1.keras.optimizers import SGD,RMSprop, Adagrad, Adadelta, Adam\n",
    "\n",
    "model = Sequential()\n",
    "# 入力層の次元はX_trainのカラム数に合わせること\n",
    "model.add(Dense(6, activation='relu', input_dim=25))\n",
    "model.add(Dense(5, activation='relu', input_dim=10))\n",
    "model.add(Dense(2, activation='softmax'))#最終層のactivationは変更しないこと\n",
    "\n",
    "# 最適化手法\n",
    "# 再急降下法を使う\n",
    "# 実務ではADAMまたはRMSPropを使う場合が多い\n",
    "sgd = SGD(lr=0.01, momentum=0.9, nesterov=False)\n",
    "\n",
    "model.compile(loss='categorical_crossentropy',\n",
    "              optimizer=sgd,\n",
    "              metrics=['accuracy'])\n",
    "\n",
    "# WARNINGが出るが気にしなくて良い"
   ]
  },
  {
   "cell_type": "code",
   "execution_count": 31,
   "metadata": {},
   "outputs": [
    {
     "name": "stdout",
     "output_type": "stream",
     "text": [
      "Train on 265340 samples, validate on 66335 samples\n",
      "Epoch 1/50\n",
      "265340/265340 [==============================] - 11s 42us/sample - loss: 0.6177 - acc: 0.6514 - val_loss: 0.6085 - val_acc: 0.6602\n",
      "Epoch 2/50\n",
      "265340/265340 [==============================] - 11s 42us/sample - loss: 0.6119 - acc: 0.6568 - val_loss: 0.6079 - val_acc: 0.6601\n",
      "Epoch 3/50\n",
      "265340/265340 [==============================] - 13s 48us/sample - loss: 0.6110 - acc: 0.6570 - val_loss: 0.6074 - val_acc: 0.6598\n",
      "Epoch 4/50\n",
      "265340/265340 [==============================] - 12s 47us/sample - loss: 0.6104 - acc: 0.6577 - val_loss: 0.6128 - val_acc: 0.6566\n",
      "Epoch 5/50\n",
      "265340/265340 [==============================] - 13s 47us/sample - loss: 0.6102 - acc: 0.6579 - val_loss: 0.6066 - val_acc: 0.6605\n",
      "Epoch 6/50\n",
      "265340/265340 [==============================] - 13s 49us/sample - loss: 0.6098 - acc: 0.6582 - val_loss: 0.6052 - val_acc: 0.6631\n",
      "Epoch 7/50\n",
      "265340/265340 [==============================] - 13s 48us/sample - loss: 0.6097 - acc: 0.6580 - val_loss: 0.6075 - val_acc: 0.6602\n",
      "Epoch 8/50\n",
      "265340/265340 [==============================] - 13s 48us/sample - loss: 0.6094 - acc: 0.6586 - val_loss: 0.6055 - val_acc: 0.6629\n",
      "Epoch 9/50\n",
      "265340/265340 [==============================] - 13s 49us/sample - loss: 0.6093 - acc: 0.6586 - val_loss: 0.6047 - val_acc: 0.6627\n",
      "Epoch 10/50\n",
      "265340/265340 [==============================] - 13s 50us/sample - loss: 0.6091 - acc: 0.6583 - val_loss: 0.6060 - val_acc: 0.6617\n",
      "Epoch 11/50\n",
      "265340/265340 [==============================] - 13s 50us/sample - loss: 0.6092 - acc: 0.6586 - val_loss: 0.6054 - val_acc: 0.6636\n",
      "Epoch 12/50\n",
      "265340/265340 [==============================] - 13s 50us/sample - loss: 0.6092 - acc: 0.6586 - val_loss: 0.6052 - val_acc: 0.6610\n",
      "Epoch 13/50\n",
      "265340/265340 [==============================] - 13s 51us/sample - loss: 0.6092 - acc: 0.6586 - val_loss: 0.6085 - val_acc: 0.6602\n",
      "Epoch 14/50\n",
      "265340/265340 [==============================] - 15s 56us/sample - loss: 0.6089 - acc: 0.6592 - val_loss: 0.6096 - val_acc: 0.6529\n",
      "Epoch 15/50\n",
      "265340/265340 [==============================] - 17s 65us/sample - loss: 0.6091 - acc: 0.6590 - val_loss: 0.6087 - val_acc: 0.6571\n",
      "Epoch 16/50\n",
      "265340/265340 [==============================] - 12s 47us/sample - loss: 0.6089 - acc: 0.6586 - val_loss: 0.6046 - val_acc: 0.6626\n",
      "Epoch 17/50\n",
      "265340/265340 [==============================] - 12s 46us/sample - loss: 0.6088 - acc: 0.6589 - val_loss: 0.6056 - val_acc: 0.6616\n",
      "Epoch 18/50\n",
      "265340/265340 [==============================] - 12s 45us/sample - loss: 0.6088 - acc: 0.6596 - val_loss: 0.6050 - val_acc: 0.6607\n",
      "Epoch 19/50\n",
      "265340/265340 [==============================] - 18s 67us/sample - loss: 0.6090 - acc: 0.6590 - val_loss: 0.6042 - val_acc: 0.6645\n",
      "Epoch 20/50\n",
      "265340/265340 [==============================] - 14s 52us/sample - loss: 0.6086 - acc: 0.6594 - val_loss: 0.6051 - val_acc: 0.6635\n",
      "Epoch 21/50\n",
      "265340/265340 [==============================] - 12s 46us/sample - loss: 0.6089 - acc: 0.6590 - val_loss: 0.6119 - val_acc: 0.6571\n",
      "Epoch 22/50\n",
      "265340/265340 [==============================] - 12s 45us/sample - loss: 0.6086 - acc: 0.6598 - val_loss: 0.6056 - val_acc: 0.6634\n",
      "Epoch 23/50\n",
      "265340/265340 [==============================] - 12s 46us/sample - loss: 0.6086 - acc: 0.6593 - val_loss: 0.6053 - val_acc: 0.6613\n",
      "Epoch 24/50\n",
      "265340/265340 [==============================] - 13s 50us/sample - loss: 0.6086 - acc: 0.6589 - val_loss: 0.6049 - val_acc: 0.6617\n",
      "Epoch 25/50\n",
      "265340/265340 [==============================] - 13s 49us/sample - loss: 0.6085 - acc: 0.6595 - val_loss: 0.6055 - val_acc: 0.6615\n",
      "Epoch 26/50\n",
      "265340/265340 [==============================] - 13s 48us/sample - loss: 0.6087 - acc: 0.6596 - val_loss: 0.6051 - val_acc: 0.6599\n",
      "Epoch 27/50\n",
      "265340/265340 [==============================] - 13s 48us/sample - loss: 0.6087 - acc: 0.6594 - val_loss: 0.6058 - val_acc: 0.6613\n",
      "Epoch 28/50\n",
      "265340/265340 [==============================] - 13s 50us/sample - loss: 0.6086 - acc: 0.6590 - val_loss: 0.6064 - val_acc: 0.6634\n",
      "Epoch 29/50\n",
      "265340/265340 [==============================] - 13s 50us/sample - loss: 0.6089 - acc: 0.6596 - val_loss: 0.6049 - val_acc: 0.6633\n",
      "Epoch 30/50\n",
      "265340/265340 [==============================] - 13s 49us/sample - loss: 0.6086 - acc: 0.6594 - val_loss: 0.6069 - val_acc: 0.6579\n",
      "Epoch 31/50\n",
      "265340/265340 [==============================] - 14s 54us/sample - loss: 0.6086 - acc: 0.6594 - val_loss: 0.6061 - val_acc: 0.6618\n",
      "Epoch 32/50\n",
      "265340/265340 [==============================] - 14s 51us/sample - loss: 0.6083 - acc: 0.6597 - val_loss: 0.6108 - val_acc: 0.6568\n",
      "Epoch 33/50\n",
      "265340/265340 [==============================] - 14s 51us/sample - loss: 0.6085 - acc: 0.6593 - val_loss: 0.6058 - val_acc: 0.6641\n",
      "Epoch 34/50\n",
      "265340/265340 [==============================] - 14s 52us/sample - loss: 0.6087 - acc: 0.6592 - val_loss: 0.6044 - val_acc: 0.6639\n",
      "Epoch 35/50\n",
      "265340/265340 [==============================] - 14s 52us/sample - loss: 0.6086 - acc: 0.6595 - val_loss: 0.6046 - val_acc: 0.6634\n",
      "Epoch 36/50\n",
      "265340/265340 [==============================] - 13s 51us/sample - loss: 0.6085 - acc: 0.6593 - val_loss: 0.6050 - val_acc: 0.6620\n",
      "Epoch 37/50\n",
      "265340/265340 [==============================] - 13s 50us/sample - loss: 0.6086 - acc: 0.6595 - val_loss: 0.6049 - val_acc: 0.6615\n",
      "Epoch 38/50\n",
      "265340/265340 [==============================] - 13s 49us/sample - loss: 0.6086 - acc: 0.6599 - val_loss: 0.6056 - val_acc: 0.6624\n",
      "Epoch 39/50\n",
      "265340/265340 [==============================] - 13s 50us/sample - loss: 0.6085 - acc: 0.6599 - val_loss: 0.6062 - val_acc: 0.6631\n",
      "Epoch 40/50\n",
      "265340/265340 [==============================] - 13s 50us/sample - loss: 0.6085 - acc: 0.6600 - val_loss: 0.6051 - val_acc: 0.6635\n",
      "Epoch 41/50\n",
      "265340/265340 [==============================] - 14s 54us/sample - loss: 0.6085 - acc: 0.6591 - val_loss: 0.6126 - val_acc: 0.6532\n",
      "Epoch 42/50\n",
      "265340/265340 [==============================] - 14s 52us/sample - loss: 0.6086 - acc: 0.6593 - val_loss: 0.6046 - val_acc: 0.6635\n",
      "Epoch 43/50\n",
      "265340/265340 [==============================] - 14s 52us/sample - loss: 0.6085 - acc: 0.6599 - val_loss: 0.6052 - val_acc: 0.6632\n",
      "Epoch 44/50\n",
      "265340/265340 [==============================] - 14s 51us/sample - loss: 0.6085 - acc: 0.6590 - val_loss: 0.6088 - val_acc: 0.6591\n",
      "Epoch 45/50\n",
      "265340/265340 [==============================] - 13s 51us/sample - loss: 0.6084 - acc: 0.6593 - val_loss: 0.6052 - val_acc: 0.6612\n",
      "Epoch 46/50\n",
      "265340/265340 [==============================] - 12s 47us/sample - loss: 0.6085 - acc: 0.6594 - val_loss: 0.6038 - val_acc: 0.6639\n",
      "Epoch 47/50\n",
      "265340/265340 [==============================] - 14s 52us/sample - loss: 0.6085 - acc: 0.6593 - val_loss: 0.6110 - val_acc: 0.6600\n",
      "Epoch 48/50\n",
      "265340/265340 [==============================] - 13s 50us/sample - loss: 0.6085 - acc: 0.6595 - val_loss: 0.6043 - val_acc: 0.6639\n",
      "Epoch 49/50\n",
      "265340/265340 [==============================] - 13s 50us/sample - loss: 0.6085 - acc: 0.6587 - val_loss: 0.6040 - val_acc: 0.6638\n",
      "Epoch 50/50\n",
      "265340/265340 [==============================] - 13s 50us/sample - loss: 0.6084 - acc: 0.6587 - val_loss: 0.6041 - val_acc: 0.6625\n"
     ]
    },
    {
     "data": {
      "image/png": "[encoded data removed]",
      "text/plain": [
       "<Figure size 432x288 with 1 Axes>"
      ]
     },
     "metadata": {
      "needs_background": "light"
     },
     "output_type": "display_data"
    },
    {
     "data": {
      "image/png": "[encoded data removed]",
      "text/plain": [
       "<Figure size 432x288 with 1 Axes>"
      ]
     },
     "metadata": {
      "needs_background": "light"
     },
     "output_type": "display_data"
    }
   ],
   "source": [
    "# 計算の実行\n",
    "fit = model.fit(X_train, y_train,\n",
    "          epochs=50,\n",
    "          batch_size=20,validation_data=(X_test, y_test))\n",
    "\n",
    "# 各epochにおける損失と精度をdfに入れる\n",
    "df = pd.DataFrame(fit.history)\n",
    "\n",
    "# グラフ化\n",
    "df[[\"loss\", \"val_loss\"]].plot()\n",
    "plt.ylabel(\"loss\")\n",
    "plt.xlabel(\"epoch\")\n",
    "plt.show()\n",
    "\n",
    "df[[\"acc\", \"val_acc\"]].plot()\n",
    "plt.ylabel(\"acc\")\n",
    "plt.xlabel(\"epoch\")\n",
    "plt.ylim([0,1.0])\n",
    "plt.show()"
   ]
  },
  {
   "cell_type": "code",
   "execution_count": 34,
   "metadata": {},
   "outputs": [
    {
     "data": {
      "text/plain": [
       "array([1, 1, 1, ..., 0, 0, 0], dtype=int64)"
      ]
     },
     "execution_count": 34,
     "metadata": {},
     "output_type": "execute_result"
    }
   ],
   "source": [
    "# 予測\n",
    "y_pred = np.argmax(model.predict(X_test), axis = 1)\n",
    "y_pred"
   ]
  },
  {
   "cell_type": "code",
   "execution_count": 37,
   "metadata": {},
   "outputs": [
    {
     "data": {
      "text/plain": [
       "array([[1., 0.],\n",
       "       [0., 1.],\n",
       "       [1., 0.],\n",
       "       ...,\n",
       "       [0., 1.],\n",
       "       [1., 0.],\n",
       "       [1., 0.]], dtype=float32)"
      ]
     },
     "execution_count": 37,
     "metadata": {},
     "output_type": "execute_result"
    }
   ],
   "source": [
    "y_test"
   ]
  },
  {
   "cell_type": "code",
   "execution_count": 40,
   "metadata": {},
   "outputs": [
    {
     "name": "stdout",
     "output_type": "stream",
     "text": [
      "正解率 = 66.252\n",
      "適合率(precision) = 59.353\n",
      "再現率(recall) = 50.325\n",
      "F1値(F1-score) = 54.467\n"
     ]
    }
   ],
   "source": [
    "# 汎化性能の確認\n",
    "y_test_check = y_df_test.values\n",
    "calc_general_perf(y_pred, y_test_check)"
   ]
  },
  {
   "cell_type": "markdown",
   "metadata": {},
   "source": [
    "# 各分類手法の汎化性能まとめ\n",
    "DAY2のロジスティック回帰と比較して、DAY3で新たに採用した分類手法の汎化性能はわずかに向上している。\n",
    "\n",
    "| 分類手法 | 正解率 | 適合率 | 再現率 | F1値 |\n",
    "| :---: | :---: | :--- | :---: | :---: |\n",
    "| ロジスティック回帰 | 65.439 | 59.945 | 41.696 | 49.182 |\n",
    "| 決定木 | 65.709 | 59.601 | 45.030 | 51.301 |\n",
    "| ランダムフォレスト | 67.028 | 61.789 | 46.638 | 53.155 |\n",
    "| アダブースト | 66.500 | 59.912 | 49.806 | 54.806 |\n",
    "| 全結合ニューラルネットワーク | 66.252 | 59.353 | 50.325 | 54.467 |"
   ]
  },
  {
   "cell_type": "code",
   "execution_count": null,
   "metadata": {},
   "outputs": [],
   "source": []
  }
 ],
 "metadata": {
  "kernelspec": {
   "display_name": "Python 3",
   "language": "python",
   "name": "python3"
  },
  "language_info": {
   "codemirror_mode": {
    "name": "ipython",
    "version": 3
   },
   "file_extension": ".py",
   "mimetype": "text/x-python",
   "name": "python",
   "nbconvert_exporter": "python",
   "pygments_lexer": "ipython3",
   "version": "3.7.4"
  }
 },
 "nbformat": 4,
 "nbformat_minor": 2
}
